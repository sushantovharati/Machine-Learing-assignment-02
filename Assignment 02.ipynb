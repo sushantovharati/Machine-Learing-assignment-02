{
 "cells": [
  {
   "cell_type": "markdown",
   "id": "547cf0e5-981f-4902-b7c4-d2c436799515",
   "metadata": {},
   "source": [
    "1. Write a program that swaps the values of two variables."
   ]
  },
  {
   "cell_type": "code",
   "execution_count": 1,
   "id": "26e49801-10ea-4c96-a03f-b5aaa781abbe",
   "metadata": {},
   "outputs": [],
   "source": [
    "a = input(\"Enter 1st number: \")\n",
    "b = input(\"Enter 2nd number: \")\n",
    "print(\"Input values: \",a,\" \",b)\n",
    "a,b = b, a\n",
    "print(\"Swapped Values: \",a,\" \",b)"
   ]
  },
  {
   "cell_type": "markdown",
   "id": "df7808e9-db20-4324-98ab-01b58657e4d7",
   "metadata": {},
   "source": [
    "2. Write a program that calculates the area of a rectangle given its length and width."
   ]
  },
  {
   "cell_type": "code",
   "execution_count": null,
   "id": "a28073ab-31b1-4a62-b1e4-f8490d69dae0",
   "metadata": {},
   "outputs": [
    {
     "name": "stdout",
     "output_type": "stream",
     "text": [
      "Enter the lenght:  20\n",
      "Enter the width: 10\n"
     ]
    },
    {
     "name": "stdout",
     "output_type": "stream",
     "text": [
      "The area of the rectangle:  200\n"
     ]
    }
   ],
   "source": [
    "length = input('Enter the lenght: ')\n",
    "width = input('Enter the width:')\n",
    "area = int(length)*int(width)\n",
    "print(\"The area of the rectangle: \",area)"
   ]
  },
  {
   "cell_type": "markdown",
   "id": "fad25d7f-8067-4590-8ed3-d0fa45ad5a91",
   "metadata": {},
   "source": [
    "3. Write a program that converts temperature from Fahrenheit to Celsius."
   ]
  },
  {
   "cell_type": "code",
   "execution_count": null,
   "id": "68fa2376-a87d-4908-86de-6f262d5befe0",
   "metadata": {},
   "outputs": [
    {
     "name": "stdout",
     "output_type": "stream",
     "text": [
      "Enter the temperature in fahrenheit:  100\n"
     ]
    },
    {
     "name": "stdout",
     "output_type": "stream",
     "text": [
      "In celsius:  37.77777777777778\n"
     ]
    }
   ],
   "source": [
    "fahrenheit = input('Enter the temperature in fahrenheit: ')\n",
    "celsius = (int(fahrenheit)-32)*5/9\n",
    "print('In celsius: ',celsius)"
   ]
  },
  {
   "cell_type": "markdown",
   "id": "69aacf53-f8ef-4f91-9748-d56c88336687",
   "metadata": {},
   "source": [
    "4. Write a program that calculates the volume of a sphere given its radius."
   ]
  },
  {
   "cell_type": "code",
   "execution_count": null,
   "id": "07286ecd-e580-4da6-870b-6d7c2178a77e",
   "metadata": {},
   "outputs": [
    {
     "name": "stdout",
     "output_type": "stream",
     "text": [
      "Enter radius 50\n"
     ]
    },
    {
     "name": "stdout",
     "output_type": "stream",
     "text": [
      "Volume of the sphere:  523599.99999999994\n"
     ]
    }
   ],
   "source": [
    "radius = input('Enter radius')\n",
    "r = int(radius)\n",
    "print('Volume of the sphere: ', 3.1416*r*r*r*4/3)"
   ]
  },
  {
   "cell_type": "markdown",
   "id": "53c301e5-d2ec-44b0-9b8d-c06d352f40ea",
   "metadata": {},
   "source": [
    "5. Write a program that finds the average of three numbers."
   ]
  },
  {
   "cell_type": "code",
   "execution_count": null,
   "id": "945ae004-c2a0-418e-959b-343d38613f3c",
   "metadata": {},
   "outputs": [
    {
     "name": "stdout",
     "output_type": "stream",
     "text": [
      "Enter 1st number 10\n",
      "Enter 2nd number 20\n",
      "Enter 3rd number 30\n"
     ]
    },
    {
     "name": "stdout",
     "output_type": "stream",
     "text": [
      "The average of the three numbers 20.0\n"
     ]
    }
   ],
   "source": [
    "a = input('Enter 1st number')\n",
    "b = input('Enter 2nd number')\n",
    "c = input('Enter 3rd number')\n",
    "avg = (int(a)+int(b)+int(c))/3\n",
    "print('The average of the three numbers', avg)"
   ]
  },
  {
   "cell_type": "markdown",
   "id": "8524e44c-b202-457e-afd8-1fc364ca00c1",
   "metadata": {},
   "source": [
    "6. Write a program that determines if a number is even or odd."
   ]
  },
  {
   "cell_type": "code",
   "execution_count": null,
   "id": "f49670e9-8294-4a33-a261-077596976f1c",
   "metadata": {},
   "outputs": [
    {
     "name": "stdout",
     "output_type": "stream",
     "text": [
      "Enter an integer number:  20\n"
     ]
    },
    {
     "name": "stdout",
     "output_type": "stream",
     "text": [
      "20  is even\n"
     ]
    }
   ],
   "source": [
    "num = int(input('Enter an integer number: '))\n",
    "if num%2==0 :\n",
    "    print(num, ' is even')\n",
    "else: \n",
    "    print(num, ' is odd')\n",
    "    "
   ]
  },
  {
   "cell_type": "markdown",
   "id": "de6f9901-ed74-4e5e-ab67-102a9a70859d",
   "metadata": {},
   "source": [
    "7. Write a program that finds the maximum of three numbers."
   ]
  },
  {
   "cell_type": "code",
   "execution_count": null,
   "id": "4946b43d-36af-417c-b16a-54318e522cb4",
   "metadata": {},
   "outputs": [
    {
     "name": "stdout",
     "output_type": "stream",
     "text": [
      "Enter 1st number 100\n",
      "Enter 2nd number 60\n",
      "Enter 3rd number 109\n"
     ]
    },
    {
     "name": "stdout",
     "output_type": "stream",
     "text": [
      "109 is the maximum number\n"
     ]
    }
   ],
   "source": [
    "a = int(input('Enter 1st number'))\n",
    "b = int(input('Enter 2nd number'))\n",
    "c = int(input('Enter 3rd number'))\n",
    "if a>b and a>c:\n",
    "    print(a, \"is the maximum number\")\n",
    "elif b>a and b>c :\n",
    "    print(b, \"is the maximum number\")\n",
    "else:\n",
    "    print(c, \"is the maximum number\")"
   ]
  },
  {
   "cell_type": "markdown",
   "id": "d55faa85-2991-48e6-8aa5-c99ecb5a9119",
   "metadata": {},
   "source": [
    "8. Write a program that determines if a year is a leap year or not."
   ]
  },
  {
   "cell_type": "code",
   "execution_count": null,
   "id": "dfd737e8-36d0-4ba1-bf32-a652c588d3d0",
   "metadata": {},
   "outputs": [
    {
     "name": "stdout",
     "output_type": "stream",
     "text": [
      "Enter year: 2004\n"
     ]
    },
    {
     "name": "stdout",
     "output_type": "stream",
     "text": [
      "The year is a leap year!\n"
     ]
    }
   ],
   "source": [
    "year=int(input(\"Enter year:\")) \n",
    "if(year%4==0 and year%100!= 0 or year%400==0): \n",
    "    print(\"The year is a leap year!\") \n",
    "else: \n",
    "    print(\"The year isn't a leap year!\")"
   ]
  },
  {
   "cell_type": "markdown",
   "id": "9f8676c2-7dfc-4c12-a037-93a4e6488f79",
   "metadata": {},
   "source": [
    "9. Write a program that determines if a number is positive, negative, or zero."
   ]
  },
  {
   "cell_type": "code",
   "execution_count": null,
   "id": "9aa8e2b4-6b1c-42b6-af1f-fa46b1e002ec",
   "metadata": {},
   "outputs": [
    {
     "name": "stdout",
     "output_type": "stream",
     "text": [
      "Enter a number: 0\n"
     ]
    },
    {
     "name": "stdout",
     "output_type": "stream",
     "text": [
      "The number is zero\n"
     ]
    }
   ],
   "source": [
    "num = int(input('Enter a number:'))\n",
    "if num>0:\n",
    "    print(num, 'is positive')\n",
    "elif num==0:\n",
    "    print('The number is zero')\n",
    "else:\n",
    "    print(num, 'is negative')"
   ]
  },
  {
   "cell_type": "markdown",
   "id": "c02504c6-9342-4a82-9e8b-2924b867a453",
   "metadata": {},
   "source": [
    "10. Write a program that calculates the grade based on a given percentage."
   ]
  },
  {
   "cell_type": "code",
   "execution_count": null,
   "id": "94281b7f-35cf-4509-b0df-adfa8cb60054",
   "metadata": {},
   "outputs": [
    {
     "name": "stdout",
     "output_type": "stream",
     "text": [
      "Enter number: 80\n"
     ]
    },
    {
     "name": "stdout",
     "output_type": "stream",
     "text": [
      "Grade: B+\n"
     ]
    }
   ],
   "source": [
    "num = int(input('Enter number:'))\n",
    "if num>=0 and num<=100:\n",
    "    if num>=90:\n",
    "        print('Grade: A+')\n",
    "    elif num>=85:\n",
    "        print('Grade: A')\n",
    "    elif num>=80:\n",
    "        print('Grade: B+')\n",
    "    elif num>=75: \n",
    "        print('Grade: B')\n",
    "    elif num>=70:\n",
    "        print('Grade: C+')\n",
    "    elif num>=65 :\n",
    "        print('Grade: C')\n",
    "    elif num>=60:\n",
    "        print('Grade: D+')\n",
    "    elif num>=50:\n",
    "        print('Grade: D')\n",
    "    else:\n",
    "        print('Grade: F')\n",
    "\n",
    "else:\n",
    "    print(\"Invalid number\")\n",
    "        "
   ]
  },
  {
   "cell_type": "markdown",
   "id": "d951b9f5-a737-4081-a3d4-22c6a8906ae8",
   "metadata": {},
   "source": [
    "11. Write a program that prints the first `n` natural numbers."
   ]
  },
  {
   "cell_type": "code",
   "execution_count": null,
   "id": "058cd462-3266-4cd4-b248-0020d1f046d8",
   "metadata": {},
   "outputs": [
    {
     "name": "stdout",
     "output_type": "stream",
     "text": [
      "Enter the last number:  5\n"
     ]
    },
    {
     "name": "stdout",
     "output_type": "stream",
     "text": [
      "1\n",
      "2\n",
      "3\n",
      "4\n",
      "5\n"
     ]
    }
   ],
   "source": [
    "n = int(input(\"Enter the last number: \"))\n",
    "for i in range(n):\n",
    "    print(i+1)"
   ]
  },
  {
   "cell_type": "markdown",
   "id": "165df74a-ffca-4ece-8b8d-8d41aa0bdd7d",
   "metadata": {},
   "source": [
    "12. Write a program that calculates the factorial of a number."
   ]
  },
  {
   "cell_type": "code",
   "execution_count": null,
   "id": "3b4c51c6-dffd-49d9-9f49-5d3e2949e80b",
   "metadata": {},
   "outputs": [
    {
     "name": "stdout",
     "output_type": "stream",
     "text": [
      "Enter the number: 5\n"
     ]
    },
    {
     "name": "stdout",
     "output_type": "stream",
     "text": [
      "The factorial of 5 is 120\n"
     ]
    }
   ],
   "source": [
    "num = int(input(\"Enter the number:\"))\n",
    "fact = 1\n",
    "for i in range(1,num+1):\n",
    "    fact = fact*i\n",
    "\n",
    "print(\"The factorial of\",num,\"is\",fact)\n",
    "    "
   ]
  },
  {
   "cell_type": "markdown",
   "id": "f1c6d470-6553-4917-a905-4043dd8fc479",
   "metadata": {},
   "source": [
    "13. Write a program that generates a Fibonacci sequence of length `n`."
   ]
  },
  {
   "cell_type": "code",
   "execution_count": null,
   "id": "f9ca8b29-d2ca-45d2-8cfe-f2105b6ac7dc",
   "metadata": {},
   "outputs": [
    {
     "name": "stdout",
     "output_type": "stream",
     "text": [
      "Enter the length 10\n"
     ]
    },
    {
     "name": "stdout",
     "output_type": "stream",
     "text": [
      "0\n",
      "1\n",
      "1\n",
      "2\n",
      "3\n",
      "5\n",
      "8\n",
      "13\n",
      "21\n",
      "34\n"
     ]
    }
   ],
   "source": [
    "n = int(input(\"Enter the length\"))\n",
    "\n",
    "s1 = 0\n",
    "s2 = 1\n",
    "print(s1)\n",
    "print(s2)\n",
    "\n",
    "for i in range(n-2):\n",
    "    sum = s1+s2\n",
    "    print(sum)\n",
    "    s1=s2\n",
    "    s2=sum\n",
    "\n"
   ]
  },
  {
   "cell_type": "markdown",
   "id": "a1be7296-5e38-4c85-9e4f-19ac3fd909a4",
   "metadata": {},
   "source": [
    "14. Write a program that checks if a given number is prime or not."
   ]
  },
  {
   "cell_type": "code",
   "execution_count": null,
   "id": "713d4160-a1f5-409d-a987-bdf1a8a1b782",
   "metadata": {},
   "outputs": [
    {
     "name": "stdout",
     "output_type": "stream",
     "text": [
      "Enter an integer number: 15\n"
     ]
    },
    {
     "name": "stdout",
     "output_type": "stream",
     "text": [
      "15 is not prime\n"
     ]
    }
   ],
   "source": [
    "num = int(input(\"Enter an integer number:\"))\n",
    "if(num==0 or num == 1):\n",
    "    print(num, \"is not prime\")\n",
    "\n",
    "elif(num==2):\n",
    "    print(num,\"is prime.\")\n",
    "\n",
    "else:\n",
    "    prime = True\n",
    "    for i in range(2,num):\n",
    "        if (num%i==0):\n",
    "            prime = False\n",
    "            break\n",
    "\n",
    "    if(prime==True):\n",
    "        print(num,\"is prime\")\n",
    "\n",
    "    else:\n",
    "        print(num,\"is not prime\")\n",
    "    "
   ]
  },
  {
   "cell_type": "markdown",
   "id": "723617bc-d0be-426c-95dc-bd9e0f25d234",
   "metadata": {},
   "source": [
    "15. Write a program that prints the multiplication table of a given number."
   ]
  },
  {
   "cell_type": "code",
   "execution_count": null,
   "id": "168cfefe-ba3c-4bb1-b655-1770293f6c30",
   "metadata": {},
   "outputs": [
    {
     "name": "stdout",
     "output_type": "stream",
     "text": [
      "Enter an integer number: 10\n"
     ]
    },
    {
     "name": "stdout",
     "output_type": "stream",
     "text": [
      "1 X 10 = 10\n",
      "2 X 10 = 20\n",
      "3 X 10 = 30\n",
      "4 X 10 = 40\n",
      "5 X 10 = 50\n",
      "6 X 10 = 60\n",
      "7 X 10 = 70\n",
      "8 X 10 = 80\n",
      "9 X 10 = 90\n",
      "10 X 10 = 100\n"
     ]
    }
   ],
   "source": [
    "num = int(input(\"Enter an integer number:\"))\n",
    "\n",
    "for i in range(1,11):\n",
    "    print(i,\"X\",num,\"=\",i*num)"
   ]
  },
  {
   "cell_type": "markdown",
   "id": "7aecc26d-ed0b-4854-8ad2-e52af88aafe9",
   "metadata": {},
   "source": [
    "16. Write a program that finds the sum of all even numbers between 1 and `n`."
   ]
  },
  {
   "cell_type": "code",
   "execution_count": null,
   "id": "7c60c26e-0699-470a-9429-d0235064d8bb",
   "metadata": {},
   "outputs": [
    {
     "name": "stdout",
     "output_type": "stream",
     "text": [
      "Enter an integer: 10\n"
     ]
    },
    {
     "name": "stdout",
     "output_type": "stream",
     "text": [
      "Sum of even numbers between 1 and 10 = 30\n"
     ]
    }
   ],
   "source": [
    "num = int(input(\"Enter an integer:\"))\n",
    "sum = 0\n",
    "for i in range(2,num+1):\n",
    "    if(i%2==0):\n",
    "        sum+=i\n",
    "\n",
    "print(\"Sum of even numbers between 1 and\", num, \"=\", sum)"
   ]
  },
  {
   "cell_type": "markdown",
   "id": "8629be08-be00-48eb-842c-caf52fea4781",
   "metadata": {},
   "source": [
    "17. Write a program that reverses a given number."
   ]
  },
  {
   "cell_type": "code",
   "execution_count": null,
   "id": "10cc5466-1de0-44b2-b123-ca1e2906c595",
   "metadata": {},
   "outputs": [
    {
     "name": "stdout",
     "output_type": "stream",
     "text": [
      "Enter an integer number: 98\n"
     ]
    },
    {
     "name": "stdout",
     "output_type": "stream",
     "text": [
      "Number =  98\n",
      "Reverse =  89\n"
     ]
    }
   ],
   "source": [
    "num = int(input(\"Enter an integer number:\"))\n",
    "rev = 0\n",
    "temp = num\n",
    "while(temp!=0):\n",
    "    rev = rev*10+temp%10\n",
    "    temp = int(temp/10)\n",
    "\n",
    "print(\"Number = \",num)\n",
    "print(\"Reverse = \", rev)\n"
   ]
  },
  {
   "cell_type": "markdown",
   "id": "d8f78bd6-eced-449e-9f44-5b064d435e65",
   "metadata": {},
   "source": [
    "18. Write a program that checks if a given string, is a palindrome."
   ]
  },
  {
   "cell_type": "code",
   "execution_count": 6,
   "id": "76c00cfc-6970-4e07-bb9e-96393f5e587a",
   "metadata": {},
   "outputs": [
    {
     "name": "stdout",
     "output_type": "stream",
     "text": [
      "The string is palindrome\n"
     ]
    }
   ],
   "source": [
    "s = input(\"Enter the value\") \n",
    "rev = s[::-1]\n",
    "if(s==rev):\n",
    "    print(\"The string is palindrome\")\n",
    "else:\n",
    "    print(\"The string is not palindrome\")"
   ]
  },
  {
   "cell_type": "markdown",
   "id": "38e6d969-0c61-4ce3-a05d-b9ff0fbb1fcc",
   "metadata": {},
   "source": [
    "19. Write a program that generates a random number and allows the user to guess it."
   ]
  },
  {
   "cell_type": "code",
   "execution_count": 3,
   "id": "9d123837-d3da-410c-a5e9-725f5a82b7af",
   "metadata": {},
   "outputs": [
    {
     "name": "stdout",
     "output_type": "stream",
     "text": [
      "Your guessing number is not correct.\n",
      "Random number was 1\n"
     ]
    }
   ],
   "source": [
    "import random\n",
    "random_number = random.randint(1,10)\n",
    "guess_number = int(input(\"Enter an integer number:\"))\n",
    "\n",
    "while True:\n",
    "    if(random_number==guess_number):\n",
    "        print(\"Your guessing number is correct.\")\n",
    "        break\n",
    "        \n",
    "    else:\n",
    "        print(\"Your guessing number is not correct.\")\n",
    "        print(\"Random number was\",random_number)\n",
    "        break"
   ]
  },
  {
   "cell_type": "markdown",
   "id": "38e16a57-44fa-4927-b740-29c7115961b4",
   "metadata": {},
   "source": [
    "20. Write a program that finds the greatest common divisor (GCD) of two numbers."
   ]
  },
  {
   "cell_type": "code",
   "execution_count": null,
   "id": "50975d92-8fde-454a-8482-cb0fce8497ce",
   "metadata": {},
   "outputs": [
    {
     "name": "stdout",
     "output_type": "stream",
     "text": [
      "Enter 1st number: 500\n",
      "Enter 2nd number: 600\n"
     ]
    },
    {
     "name": "stdout",
     "output_type": "stream",
     "text": [
      "GCD of 500 and 600 = 100\n"
     ]
    }
   ],
   "source": [
    "num1 = int(input(\"Enter 1st number:\"))\n",
    "num2 = int(input(\"Enter 2nd number:\"))\n",
    "min = num1\n",
    "if(num2<num1):\n",
    "    min = num2\n",
    "\n",
    "gcd = 1\n",
    "for i in range(2,min+1):\n",
    "    if(num1%i==0 and num2%i==0):\n",
    "        gcd = i\n",
    "\n",
    "print(\"GCD of\",num1,\"and\",num2,\"=\",gcd)"
   ]
  },
  {
   "cell_type": "code",
   "execution_count": null,
   "id": "a51eedb8-bf72-412b-b0f9-928f1272c9b2",
   "metadata": {},
   "outputs": [],
   "source": []
  }
 ],
 "metadata": {
  "kernelspec": {
   "display_name": "Python 3 (ipykernel)",
   "language": "python",
   "name": "python3"
  },
  "language_info": {
   "codemirror_mode": {
    "name": "ipython",
    "version": 3
   },
   "file_extension": ".py",
   "mimetype": "text/x-python",
   "name": "python",
   "nbconvert_exporter": "python",
   "pygments_lexer": "ipython3",
   "version": "3.12.3"
  }
 },
 "nbformat": 4,
 "nbformat_minor": 5
}
